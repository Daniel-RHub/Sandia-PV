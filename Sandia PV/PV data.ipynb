{
  "cells": [
    {
      "metadata": {
        "trusted": true
      },
      "cell_type": "code",
      "source": "!pip install mglearn",
      "execution_count": 2,
      "outputs": [
        {
          "output_type": "stream",
          "text": "Requirement already satisfied: mglearn in /home/nbuser/anaconda3_501/lib/python3.6/site-packages (0.1.7)\nRequirement already satisfied: imageio in /home/nbuser/anaconda3_501/lib/python3.6/site-packages (from mglearn) (2.4.1)\nRequirement already satisfied: pillow in /home/nbuser/anaconda3_501/lib/python3.6/site-packages (from mglearn) (5.3.0)\nRequirement already satisfied: pandas in /home/nbuser/anaconda3_501/lib/python3.6/site-packages (from mglearn) (0.23.4)\nRequirement already satisfied: matplotlib in /home/nbuser/anaconda3_501/lib/python3.6/site-packages (from mglearn) (3.0.0)\nRequirement already satisfied: numpy in /home/nbuser/anaconda3_501/lib/python3.6/site-packages (from mglearn) (1.16.2)\nRequirement already satisfied: scikit-learn in /home/nbuser/anaconda3_501/lib/python3.6/site-packages (from mglearn) (0.20.3)\nRequirement already satisfied: cycler in /home/nbuser/anaconda3_501/lib/python3.6/site-packages (from mglearn) (0.10.0)\nRequirement already satisfied: pytz>=2011k in /home/nbuser/anaconda3_501/lib/python3.6/site-packages (from pandas->mglearn) (2019.3)\nRequirement already satisfied: python-dateutil>=2.5.0 in /home/nbuser/anaconda3_501/lib/python3.6/site-packages (from pandas->mglearn) (2.8.1)\nRequirement already satisfied: kiwisolver>=1.0.1 in /home/nbuser/anaconda3_501/lib/python3.6/site-packages (from matplotlib->mglearn) (1.0.1)\nRequirement already satisfied: pyparsing!=2.0.4,!=2.1.2,!=2.1.6,>=2.0.1 in /home/nbuser/anaconda3_501/lib/python3.6/site-packages (from matplotlib->mglearn) (2.3.0)\nRequirement already satisfied: scipy>=0.13.3 in /home/nbuser/anaconda3_501/lib/python3.6/site-packages (from scikit-learn->mglearn) (1.1.0)\nRequirement already satisfied: six in /home/nbuser/anaconda3_501/lib/python3.6/site-packages (from cycler->mglearn) (1.11.0)\nRequirement already satisfied: setuptools in /home/nbuser/anaconda3_501/lib/python3.6/site-packages (from kiwisolver>=1.0.1->matplotlib->mglearn) (41.6.0)\n\u001b[33mWARNING: You are using pip version 19.3.1; however, version 20.0.2 is available.\nYou should consider upgrading via the 'pip install --upgrade pip' command.\u001b[0m\n",
          "name": "stdout"
        }
      ]
    },
    {
      "metadata": {
        "trusted": true
      },
      "cell_type": "code",
      "source": "# Libraries for Analysis \nimport sys \nprint(\"Python version: {}\".format(sys.version))\nimport pandas as pd\nprint(\"Pandas version: {}\".format(pd.__version__))\nimport matplotlib\nprint(\"Matplotlib version: {}\".format(matplotlib.__version__))\nimport numpy as np\nprint(\"Numpy version: {}\".format(np.__version__))\nimport scipy as sp\nprint(\"Scipy version: {}\".format(sp.__version__))\nimport IPython\nprint(\"IPython version: {}\".format(IPython.__version__))\nimport sklearn\nprint(\"scikit-learn version: {}\".format(sklearn.__version__))\nimport mglearn\nimport matplotlib.pyplot as plt\nimport scipy.io\n\n# Allow plots to appear in the notebook\n%matplotlib inline\n\n# From\nfrom sklearn.neighbors import KNeighborsClassifier \nfrom sklearn import svm\nfrom sklearn.svm import SVC\nimport seaborn as sns; sns.set(font_scale = 1.2)\nimport csv\nfrom pandas.plotting import scatter_matrix",
      "execution_count": 3,
      "outputs": [
        {
          "output_type": "stream",
          "text": "Python version: 3.6.6 |Anaconda, Inc.| (default, Jun 28 2018, 17:14:51) \n[GCC 7.2.0]\nPandas version: 0.23.4\nMatplotlib version: 3.0.0\nNumpy version: 1.16.2\nScipy version: 1.1.0\nIPython version: 7.1.1\nscikit-learn version: 0.20.3\n",
          "name": "stdout"
        }
      ]
    },
    {
      "metadata": {},
      "cell_type": "markdown",
      "source": "## Read Data"
    },
    {
      "metadata": {
        "trusted": true
      },
      "cell_type": "code",
      "source": "# Read the Power System Measurements\npv_data = pd.read_csv('Sandia PV CSV.csv')\nprint(\"Keys of pv_data: \\n{}\".format(pv_data.keys()))\npv_data_split = pv_data[0:480959:10]",
      "execution_count": 4,
      "outputs": [
        {
          "output_type": "stream",
          "text": "Keys of pv_data: \nIndex(['Sample', 'Magnitude'], dtype='object')\n",
          "name": "stdout"
        }
      ]
    },
    {
      "metadata": {
        "trusted": true
      },
      "cell_type": "code",
      "source": "pv_data.head()",
      "execution_count": 5,
      "outputs": [
        {
          "output_type": "execute_result",
          "execution_count": 5,
          "data": {
            "text/html": "<div>\n<style scoped>\n    .dataframe tbody tr th:only-of-type {\n        vertical-align: middle;\n    }\n\n    .dataframe tbody tr th {\n        vertical-align: top;\n    }\n\n    .dataframe thead th {\n        text-align: right;\n    }\n</style>\n<table border=\"1\" class=\"dataframe\">\n  <thead>\n    <tr style=\"text-align: right;\">\n      <th></th>\n      <th>Sample</th>\n      <th>Magnitude</th>\n    </tr>\n  </thead>\n  <tbody>\n    <tr>\n      <th>0</th>\n      <td>1</td>\n      <td>0.0</td>\n    </tr>\n    <tr>\n      <th>1</th>\n      <td>2</td>\n      <td>0.0</td>\n    </tr>\n    <tr>\n      <th>2</th>\n      <td>3</td>\n      <td>0.0</td>\n    </tr>\n    <tr>\n      <th>3</th>\n      <td>4</td>\n      <td>0.0</td>\n    </tr>\n    <tr>\n      <th>4</th>\n      <td>5</td>\n      <td>0.0</td>\n    </tr>\n  </tbody>\n</table>\n</div>",
            "text/plain": "   Sample  Magnitude\n0       1        0.0\n1       2        0.0\n2       3        0.0\n3       4        0.0\n4       5        0.0"
          },
          "metadata": {}
        }
      ]
    },
    {
      "metadata": {
        "trusted": true
      },
      "cell_type": "code",
      "source": "pv_data.tail()",
      "execution_count": 7,
      "outputs": [
        {
          "output_type": "execute_result",
          "execution_count": 7,
          "data": {
            "text/html": "<div>\n<style scoped>\n    .dataframe tbody tr th:only-of-type {\n        vertical-align: middle;\n    }\n\n    .dataframe tbody tr th {\n        vertical-align: top;\n    }\n\n    .dataframe thead th {\n        text-align: right;\n    }\n</style>\n<table border=\"1\" class=\"dataframe\">\n  <thead>\n    <tr style=\"text-align: right;\">\n      <th></th>\n      <th>Sample</th>\n      <th>Magnitude</th>\n    </tr>\n  </thead>\n  <tbody>\n    <tr>\n      <th>480955</th>\n      <td>480956</td>\n      <td>0.0</td>\n    </tr>\n    <tr>\n      <th>480956</th>\n      <td>480957</td>\n      <td>0.0</td>\n    </tr>\n    <tr>\n      <th>480957</th>\n      <td>480958</td>\n      <td>0.0</td>\n    </tr>\n    <tr>\n      <th>480958</th>\n      <td>480959</td>\n      <td>0.0</td>\n    </tr>\n    <tr>\n      <th>480959</th>\n      <td>480960</td>\n      <td>0.0</td>\n    </tr>\n  </tbody>\n</table>\n</div>",
            "text/plain": "        Sample  Magnitude\n480955  480956        0.0\n480956  480957        0.0\n480957  480958        0.0\n480958  480959        0.0\n480959  480960        0.0"
          },
          "metadata": {}
        }
      ]
    },
    {
      "metadata": {
        "trusted": true
      },
      "cell_type": "code",
      "source": "pv_data_split.head()",
      "execution_count": 8,
      "outputs": [
        {
          "output_type": "execute_result",
          "execution_count": 8,
          "data": {
            "text/html": "<div>\n<style scoped>\n    .dataframe tbody tr th:only-of-type {\n        vertical-align: middle;\n    }\n\n    .dataframe tbody tr th {\n        vertical-align: top;\n    }\n\n    .dataframe thead th {\n        text-align: right;\n    }\n</style>\n<table border=\"1\" class=\"dataframe\">\n  <thead>\n    <tr style=\"text-align: right;\">\n      <th></th>\n      <th>Sample</th>\n      <th>Magnitude</th>\n    </tr>\n  </thead>\n  <tbody>\n    <tr>\n      <th>0</th>\n      <td>1</td>\n      <td>0.0</td>\n    </tr>\n    <tr>\n      <th>10</th>\n      <td>11</td>\n      <td>0.0</td>\n    </tr>\n    <tr>\n      <th>20</th>\n      <td>21</td>\n      <td>0.0</td>\n    </tr>\n    <tr>\n      <th>30</th>\n      <td>31</td>\n      <td>0.0</td>\n    </tr>\n    <tr>\n      <th>40</th>\n      <td>41</td>\n      <td>0.0</td>\n    </tr>\n  </tbody>\n</table>\n</div>",
            "text/plain": "    Sample  Magnitude\n0        1        0.0\n10      11        0.0\n20      21        0.0\n30      31        0.0\n40      41        0.0"
          },
          "metadata": {}
        }
      ]
    },
    {
      "metadata": {
        "trusted": true
      },
      "cell_type": "code",
      "source": "pv_data_split.tail()",
      "execution_count": 9,
      "outputs": [
        {
          "output_type": "execute_result",
          "execution_count": 9,
          "data": {
            "text/html": "<div>\n<style scoped>\n    .dataframe tbody tr th:only-of-type {\n        vertical-align: middle;\n    }\n\n    .dataframe tbody tr th {\n        vertical-align: top;\n    }\n\n    .dataframe thead th {\n        text-align: right;\n    }\n</style>\n<table border=\"1\" class=\"dataframe\">\n  <thead>\n    <tr style=\"text-align: right;\">\n      <th></th>\n      <th>Sample</th>\n      <th>Magnitude</th>\n    </tr>\n  </thead>\n  <tbody>\n    <tr>\n      <th>480910</th>\n      <td>480911</td>\n      <td>0.0</td>\n    </tr>\n    <tr>\n      <th>480920</th>\n      <td>480921</td>\n      <td>0.0</td>\n    </tr>\n    <tr>\n      <th>480930</th>\n      <td>480931</td>\n      <td>0.0</td>\n    </tr>\n    <tr>\n      <th>480940</th>\n      <td>480941</td>\n      <td>0.0</td>\n    </tr>\n    <tr>\n      <th>480950</th>\n      <td>480951</td>\n      <td>0.0</td>\n    </tr>\n  </tbody>\n</table>\n</div>",
            "text/plain": "        Sample  Magnitude\n480910  480911        0.0\n480920  480921        0.0\n480930  480931        0.0\n480940  480941        0.0\n480950  480951        0.0"
          },
          "metadata": {}
        }
      ]
    },
    {
      "metadata": {
        "trusted": true
      },
      "cell_type": "code",
      "source": "# Libraries for Analysis\nimport sys\nprint(\"Python version: {}\".format(sys.version))\nimport pandas as pd\nprint(\"pandas version: {}\".format(pd.__version__))\nimport matplotlib\nprint(\"matplotlib version: {}\".format(matplotlib.__version__))\nimport numpy as np\nprint(\"NumPy version: {}\".format(np.__version__))\nimport scipy as sp\nprint(\"SciPy version: {}\".format(sp.__version__))\nimport IPython\nprint(\"IPython version: {}\".format(IPython.__version__))\nimport sklearn\nprint(\"scikit-learn version: {}\".format(sklearn.__version__))\nfrom sklearn.linear_model import LinearRegression\nimport mglearn\nimport matplotlib.pyplot as plt\nimport scipy.io\n\n# Allow plots to appear in the notebook\n%matplotlib inline\n\n# Libraries for Visuals\nfrom sklearn.neighbors import KNeighborsClassifier \nfrom sklearn import svm\nfrom sklearn.svm import SVC\nimport seaborn as sns; sns.set(font_scale = 1.2)\nimport csv\nlinear_regression_model = LinearRegression() # Pass any parameters\nknn = KNeighborsClassifier(n_neighbors=3)\nfrom pandas.plotting import scatter_matrix",
      "execution_count": 10,
      "outputs": [
        {
          "output_type": "stream",
          "text": "Python version: 3.6.6 |Anaconda, Inc.| (default, Jun 28 2018, 17:14:51) \n[GCC 7.2.0]\npandas version: 0.23.4\nmatplotlib version: 3.0.0\nNumPy version: 1.16.2\nSciPy version: 1.1.0\nIPython version: 7.1.1\nscikit-learn version: 0.20.3\n",
          "name": "stdout"
        }
      ]
    },
    {
      "metadata": {
        "trusted": true
      },
      "cell_type": "code",
      "source": "# Plot two parameters\nsns.lmplot('Sample','Magnitude', data=pv_data_split, hue='Magnitude',\n           palette='Set1', fit_reg=False, scatter_kws={\"s\": 70}, height=12);\n",
      "execution_count": null,
      "outputs": []
    },
    {
      "metadata": {
        "trusted": true
      },
      "cell_type": "code",
      "source": "\n# Control x and y limits\nsns.plt.ylim(0,None)\nsns.plt.xlim(0,1000)",
      "execution_count": null,
      "outputs": []
    }
  ],
  "metadata": {
    "kernelspec": {
      "name": "python36",
      "display_name": "Python 3.6",
      "language": "python"
    },
    "language_info": {
      "mimetype": "text/x-python",
      "nbconvert_exporter": "python",
      "name": "python",
      "pygments_lexer": "ipython3",
      "version": "3.6.6",
      "file_extension": ".py",
      "codemirror_mode": {
        "version": 3,
        "name": "ipython"
      }
    }
  },
  "nbformat": 4,
  "nbformat_minor": 2
}